{
 "cells": [
  {
   "cell_type": "code",
   "execution_count": 9,
   "metadata": {},
   "outputs": [
    {
     "name": "stdout",
     "output_type": "stream",
     "text": [
      "cpu\n"
     ]
    }
   ],
   "source": [
    "import torch\n",
    "import torch.nn as nn\n",
    "import torchvision\n",
    "import torchvision.models as models\n",
    "from torchview import draw_graph\n",
    "import matplotlib.pyplot as plt\n",
    "from ffmpeg_quality_metrics import FfmpegQualityMetrics as ffqm  # for VMAF\n",
    "\n",
    "# set the device\n",
    "device = torch.device('cuda' if torch.cuda.is_available() else 'cpu')\n",
    "print(device)\n"
   ]
  },
  {
   "cell_type": "code",
   "execution_count": null,
   "metadata": {},
   "outputs": [],
   "source": [
    "# kolla mer på om detta är rimligt\n",
    "\n",
    "model_parameters={}\n",
    "model_parameters['densenet121'] = [6,12,24,16]\n",
    "\n",
    "# growth rate\n",
    "k = 32\n",
    "compression_factor = 0.5"
   ]
  },
  {
   "cell_type": "code",
   "execution_count": null,
   "metadata": {},
   "outputs": [],
   "source": [
    "\"\"\"\n",
    "Ändra och ta bort:\n",
    "(This code is retrieved from https://medium.com/@karuneshu21/implement-densenet-in-pytorch-46374ef91900\n",
    "Author: Karunesh Upadhyay)\n",
    "\"\"\"\n",
    "class DenseLayer(nn.Module):\n",
    "    def __init__(self, in_channels):\n",
    "        \"\"\"\n",
    "        First 1x1 convolution generating 4*k number of channels irrespective of the total number of input channels.\n",
    "        First 3x3 convolution generating k number of channels from the 4*k number of input channels.\n",
    "\n",
    "        Args:\n",
    "        in_channels (int) : # input channels to the Dense Layer, default is 3\n",
    "\n",
    "        \"\"\"\n",
    "        super(DenseLayer,self).__init__()\n",
    "\n",
    "        self.BN1 = nn.BatchNorm2d(num_features=in_channels)\n",
    "        self.conv1 = nn.Conv2d( in_channels=in_channels , out_channels=4*k , kernel_size=1 , stride=1 , padding=0 , bias = False )\n",
    "\n",
    "        self.BN2 = nn.BatchNorm2d(num_features = 4*k)\n",
    "        self.conv2 = nn.Conv2d( in_channels=4*k , out_channels=k , kernel_size=3 , stride=1 , padding=1 , bias = False )\n",
    "\n",
    "        self.relu = nn.ReLU()\n",
    "        \n",
    "        \n",
    "    def forward(self,x):\n",
    "        \"\"\"\n",
    "        Bottleneck DenseLayer with following operations\n",
    "        (i) batchnorm -> relu -> 1x1 conv\n",
    "        (ii) batchnorm -> relu -> 3x3 conv\n",
    "        \n",
    "        Concatenation of input and output tensor which is the main idea of DenseNet. \n",
    "\n",
    "        Args:\n",
    "            x (tensor) : input tensor to be passed through the dense layer\n",
    "        \n",
    "        Attributes:\n",
    "            x (tensor) : output tensor \n",
    "\n",
    "        \"\"\"\n",
    "        x_in = x\n",
    "        x = self.BN1(x)\n",
    "        x = self.relu(x)\n",
    "        x = self.conv1(x)\n",
    "\n",
    "        x = self.BN2(x)\n",
    "        x = self.relu(x)\n",
    "        x = self.conv2(x)\n",
    "        \n",
    "        x = torch.cat([x_in, x], 1)\n",
    "        \n",
    "        return x\n",
    "\n"
   ]
  },
  {
   "cell_type": "code",
   "execution_count": null,
   "metadata": {},
   "outputs": [],
   "source": [
    "# For testing DenseNet with input size 3 x 1920 x 1080 (Full HD)\n",
    "\n",
    "def test_DenseNet():\n",
    "    x = torch.randn(1, 3, 1920, 1080)\n",
    "    model = DenseNet(model_parameters['densenet121'], k, compression_factor)\n",
    "    return model\n",
    "\n",
    "\n",
    "model = test_DenseNet()"
   ]
  }
 ],
 "metadata": {
  "kernelspec": {
   "display_name": "Python 3.10.5 64-bit",
   "language": "python",
   "name": "python3"
  },
  "language_info": {
   "codemirror_mode": {
    "name": "ipython",
    "version": 3
   },
   "file_extension": ".py",
   "mimetype": "text/x-python",
   "name": "python",
   "nbconvert_exporter": "python",
   "pygments_lexer": "ipython3",
   "version": "3.10.5"
  },
  "orig_nbformat": 4,
  "vscode": {
   "interpreter": {
    "hash": "aee8b7b246df8f9039afb4144a1f6fd8d2ca17a180786b69acc140d282b71a49"
   }
  }
 },
 "nbformat": 4,
 "nbformat_minor": 2
}
